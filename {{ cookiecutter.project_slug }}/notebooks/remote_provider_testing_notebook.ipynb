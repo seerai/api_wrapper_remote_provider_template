{
    "cells" : [
        {
            "cell_type" : "markdown",
            "id" : "2dd6ffdf-a440-4fc7-b0af-a2a021a25570",
            "metadata" : {},
            "source" : [
                "# Notebook for testing remote providers\n",
                "This notebook is a template for the testing steps of writing a remote provider to wrap an external API"
            ]
        },
        {
            "cell_type" : "markdown",
            "id" : "ea486659-7d59-4215-adcd-85e6e3d1ea3e",
            "metadata" : {},
            "source" : [
                "## Part 1: Getting a feel for the remote API\n",
                "This section walks through sending and receiving ordinary python requests to the AirNow API. You can adapt this section to whatever API you are working on. The key point is to understand what parameters the API accepts, and what it sends back in response."
            ]
        },
        {
            "cell_type" : "code",
            "execution_count" : 1,
            "id" : "5ca66b16-ebdb-4bef-aeaa-39094d8e75c5",
            "metadata" : {
                "tags" : []
            },
            "outputs" : [],
            "source" : ["import requests"]
        },
        {
            "cell_type" : "code",
            "execution_count" : 2,
            "id" : "12b16368-d30b-41a4-8735-d8d19525e4d2",
            "metadata" : {
                "tags" : []
            },
            "outputs" : [],
            "source" : [
                "aqi_url = \"https://airnowapi.org/aq/data/\"\n",
                "api_key = \"463BB454-9613-4D69-A6D0-4B57320FE25A\""
            ]
        },
        {
            "cell_type" : "code",
            "execution_count" : 3,
            "id" : "f9a4198b-4f04-45f6-8395-d2aa0961f70f",
            "metadata" : {
                "tags" : []
            },
            "outputs" : [],
            "source" : [
                "options = {\n",
                "        \"url\": \"https://airnowapi.org/aq/data/\",\n",
                "        \"start_date\": \"2014-09-23\",\n",
                "        \"start_hour_utc\": \"21\",\n",
                "        \"end_date\": \"2014-09-23\",\n",
                "        \"end_hour_utc\": \"23\",\n",
                "        \"parameters\": \"o3,pm25\",\n",
                "        \"bbox\": [\"-90.806632,24.634217,-71.119132,45.910790\"],\n",
                "        \"data_type\": \"a\",\n",
                "        \"format\": \"application/json\",\n",
                "        \"api_key\": \"463BB454-9613-4D69-A6D0-4B57320FE25A\"\n",
                "    }\n"
            ]
        },
        {
            "cell_type" : "code",
            "execution_count" : 4,
            "id" : "eb0f2135-6f44-4004-b6db-a82a9fac774f",
            "metadata" : {},
            "outputs" : [
                {
                    "name" : "stdout",
                    "output_type" : "stream",
                    "text" : ["Requesting AirNowAPI data...\n"]
                }
            ],
            "source" : [
                "\n",
                "request_params = {\n",
                "    #\"startdate\": options[\"start_date\"] + \"T\" + options[\"start_hour_utc\"],\n",
                "    #\"enddate\": options[\"end_date\"] + \"T\" + options[\"end_hour_utc\"],\n",
                "    \"parameters\": options[\"parameters\"],\n",
                "    \"bbox\": options[\"bbox\"],\n",
                "    \"datatype\": options[\"data_type\"],\n",
                "    \"format\": options[\"format\"],\n",
                "    \"api_key\": options[\"api_key\"],\n",
                "    \"page\":2,\n",
                "    \"page_size\":200,\n",
                " }\n",
                "\n",
                "try:\n",
                "    # Request AirNowAPI data\n",
                "    print(\"Requesting AirNowAPI data...\")\n",
                "    \n",
                "    # Perform the AirNow API data request\n",
                "    response = requests.get(aqi_url, params=request_params)\n",
                "    response.raise_for_status()\n",
                "except:\n",
                "    print(\"error\")\n",
                "\n"
            ]
        },
        {
            "cell_type" : "markdown",
            "id" : "ba44b93b-88d7-46e8-b029-cabec9748c68",
            "metadata" : {},
            "source" : ["### Examine the response"]
        },
        {
            "cell_type" : "code",
            "execution_count" : null,
            "id" : "a7e73245-1c11-4b39-a24d-4bdba9e7f97b",
            "metadata" : {
                "tags" : []
            },
            "outputs" : [],
            "source" : ["response.json()"]
        },
        {
            "cell_type" : "markdown",
            "id" : "d81ef7a5-b5c9-4d9d-ba21-48df64ea645d",
            "metadata" : {},
            "source" : ["This part is not necessary, but it may be easier to visualize the results this way"]
        },
        {
            "cell_type" : "code",
            "execution_count" : 19,
            "id" : "587e1776-ba95-45cc-9759-1122b5372d79",
            "metadata" : {
                "tags" : []
            },
            "outputs" : [],
            "source" : [
                "features=[]\n",
                "for res in response.json():\n",
                "    feat = geodesic.Feature(geometry= {\"type\": \"Point\", \"coordinates\": [res['Latitude'], res['Longitude']]},\n",
                "                            properties=res,\n",
                "                            datetime= datetime.strptime(res['UTC'], \"%Y-%m-%dT%H:%M\"))\n",
                "    features.append(feat)\n",
                "\n",
                "\n",
                "                                       "
            ]
        },
        {
            "cell_type" : "code",
            "execution_count" : 20,
            "id" : "f447c91d-ba51-49d2-b012-0ebee7a54e49",
            "metadata" : {
                "tags" : []
            },
            "outputs" : [],
            "source" : ["fc = geodesic.FeatureCollection(features=features)"]
        },
        {
            "cell_type" : "code",
            "execution_count" : 21,
            "id" : "9b37f6a1-7bd5-4d85-803f-d94886176dc9",
            "metadata" : {
                "tags" : []
            },
            "outputs" : [
                {
                    "data" : {
                        "text/html" : [
                            "<div>\n",
                            "<style scoped>\n",
                            "    .dataframe tbody tr th:only-of-type {\n",
                            "        vertical-align: middle;\n",
                            "    }\n",
                            "\n",
                            "    .dataframe tbody tr th {\n",
                            "        vertical-align: top;\n",
                            "    }\n",
                            "\n",
                            "    .dataframe thead th {\n",
                            "        text-align: right;\n",
                            "    }\n",
                            "</style>\n",
                            "<table border=\"1\" class=\"dataframe\">\n",
                            "  <thead>\n",
                            "    <tr style=\"text-align: right;\">\n",
                            "      <th></th>\n",
                            "      <th>Latitude</th>\n",
                            "      <th>Longitude</th>\n",
                            "      <th>UTC</th>\n",
                            "      <th>Parameter</th>\n",
                            "      <th>Unit</th>\n",
                            "      <th>AQI</th>\n",
                            "      <th>Category</th>\n",
                            "      <th>datetime</th>\n",
                            "      <th>geometry</th>\n",
                            "    </tr>\n",
                            "  </thead>\n",
                            "  <tbody>\n",
                            "    <tr>\n",
                            "      <th>0</th>\n",
                            "      <td>29.763900</td>\n",
                            "      <td>-90.765300</td>\n",
                            "      <td>2024-06-07T13:00</td>\n",
                            "      <td>PM2.5</td>\n",
                            "      <td>UG/M3</td>\n",
                            "      <td>59</td>\n",
                            "      <td>2</td>\n",
                            "      <td>2024-06-07T13:00:00+00:00</td>\n",
                            "      <td>POINT (29.76390 -90.76530)</td>\n",
                            "    </tr>\n",
                            "    <tr>\n",
                            "      <th>1</th>\n",
                            "      <td>29.763900</td>\n",
                            "      <td>-90.765300</td>\n",
                            "      <td>2024-06-07T13:00</td>\n",
                            "      <td>OZONE</td>\n",
                            "      <td>PPB</td>\n",
                            "      <td>13</td>\n",
                            "      <td>1</td>\n",
                            "      <td>2024-06-07T13:00:00+00:00</td>\n",
                            "      <td>POINT (29.76390 -90.76530)</td>\n",
                            "    </tr>\n",
                            "    <tr>\n",
                            "      <th>2</th>\n",
                            "      <td>33.750833</td>\n",
                            "      <td>-90.734167</td>\n",
                            "      <td>2024-06-07T13:00</td>\n",
                            "      <td>OZONE</td>\n",
                            "      <td>PPB</td>\n",
                            "      <td>30</td>\n",
                            "      <td>1</td>\n",
                            "      <td>2024-06-07T13:00:00+00:00</td>\n",
                            "      <td>POINT (33.75083 -90.73417)</td>\n",
                            "    </tr>\n",
                            "    <tr>\n",
                            "      <th>3</th>\n",
                            "      <td>33.750833</td>\n",
                            "      <td>-90.734167</td>\n",
                            "      <td>2024-06-07T13:00</td>\n",
                            "      <td>PM2.5</td>\n",
                            "      <td>UG/M3</td>\n",
                            "      <td>19</td>\n",
                            "      <td>1</td>\n",
                            "      <td>2024-06-07T13:00:00+00:00</td>\n",
                            "      <td>POINT (33.75083 -90.73417)</td>\n",
                            "    </tr>\n",
                            "    <tr>\n",
                            "      <th>4</th>\n",
                            "      <td>38.490200</td>\n",
                            "      <td>-90.705200</td>\n",
                            "      <td>2024-06-07T13:00</td>\n",
                            "      <td>OZONE</td>\n",
                            "      <td>PPB</td>\n",
                            "      <td>17</td>\n",
                            "      <td>1</td>\n",
                            "      <td>2024-06-07T13:00:00+00:00</td>\n",
                            "      <td>POINT (38.49020 -90.70520)</td>\n",
                            "    </tr>\n",
                            "    <tr>\n",
                            "      <th>...</th>\n",
                            "      <td>...</td>\n",
                            "      <td>...</td>\n",
                            "      <td>...</td>\n",
                            "      <td>...</td>\n",
                            "      <td>...</td>\n",
                            "      <td>...</td>\n",
                            "      <td>...</td>\n",
                            "      <td>...</td>\n",
                            "      <td>...</td>\n",
                            "    </tr>\n",
                            "    <tr>\n",
                            "      <th>1136</th>\n",
                            "      <td>45.373300</td>\n",
                            "      <td>-71.251400</td>\n",
                            "      <td>2024-06-07T13:00</td>\n",
                            "      <td>OZONE</td>\n",
                            "      <td>PPB</td>\n",
                            "      <td>21</td>\n",
                            "      <td>1</td>\n",
                            "      <td>2024-06-07T13:00:00+00:00</td>\n",
                            "      <td>POINT (45.37330 -71.25140)</td>\n",
                            "    </tr>\n",
                            "    <tr>\n",
                            "      <th>1137</th>\n",
                            "      <td>45.373300</td>\n",
                            "      <td>-71.251400</td>\n",
                            "      <td>2024-06-07T13:00</td>\n",
                            "      <td>PM2.5</td>\n",
                            "      <td>UG/M3</td>\n",
                            "      <td>7</td>\n",
                            "      <td>1</td>\n",
                            "      <td>2024-06-07T13:00:00+00:00</td>\n",
                            "      <td>POINT (45.37330 -71.25140)</td>\n",
                            "    </tr>\n",
                            "    <tr>\n",
                            "      <th>1138</th>\n",
                            "      <td>44.308132</td>\n",
                            "      <td>-71.217639</td>\n",
                            "      <td>2024-06-07T13:00</td>\n",
                            "      <td>OZONE</td>\n",
                            "      <td>PPB</td>\n",
                            "      <td>23</td>\n",
                            "      <td>1</td>\n",
                            "      <td>2024-06-07T13:00:00+00:00</td>\n",
                            "      <td>POINT (44.30813 -71.21764)</td>\n",
                            "    </tr>\n",
                            "    <tr>\n",
                            "      <th>1139</th>\n",
                            "      <td>41.683300</td>\n",
                            "      <td>-71.169701</td>\n",
                            "      <td>2024-06-07T13:00</td>\n",
                            "      <td>OZONE</td>\n",
                            "      <td>PPB</td>\n",
                            "      <td>28</td>\n",
                            "      <td>1</td>\n",
                            "      <td>2024-06-07T13:00:00+00:00</td>\n",
                            "      <td>POINT (41.68330 -71.16970)</td>\n",
                            "    </tr>\n",
                            "    <tr>\n",
                            "      <th>1140</th>\n",
                            "      <td>41.683300</td>\n",
                            "      <td>-71.169701</td>\n",
                            "      <td>2024-06-07T13:00</td>\n",
                            "      <td>PM2.5</td>\n",
                            "      <td>UG/M3</td>\n",
                            "      <td>27</td>\n",
                            "      <td>1</td>\n",
                            "      <td>2024-06-07T13:00:00+00:00</td>\n",
                            "      <td>POINT (41.68330 -71.16970)</td>\n",
                            "    </tr>\n",
                            "  </tbody>\n",
                            "</table>\n",
                            "<p>1141 rows × 9 columns</p>\n",
                            "</div>"
                        ],
                        "text/plain" : [
                            "       Latitude  Longitude               UTC Parameter   Unit  AQI  Category  \\\n",
                            "0     29.763900 -90.765300  2024-06-07T13:00     PM2.5  UG/M3   59         2   \n",
                            "1     29.763900 -90.765300  2024-06-07T13:00     OZONE    PPB   13         1   \n",
                            "2     33.750833 -90.734167  2024-06-07T13:00     OZONE    PPB   30         1   \n",
                            "3     33.750833 -90.734167  2024-06-07T13:00     PM2.5  UG/M3   19         1   \n",
                            "4     38.490200 -90.705200  2024-06-07T13:00     OZONE    PPB   17         1   \n",
                            "...         ...        ...               ...       ...    ...  ...       ...   \n",
                            "1136  45.373300 -71.251400  2024-06-07T13:00     OZONE    PPB   21         1   \n",
                            "1137  45.373300 -71.251400  2024-06-07T13:00     PM2.5  UG/M3    7         1   \n",
                            "1138  44.308132 -71.217639  2024-06-07T13:00     OZONE    PPB   23         1   \n",
                            "1139  41.683300 -71.169701  2024-06-07T13:00     OZONE    PPB   28         1   \n",
                            "1140  41.683300 -71.169701  2024-06-07T13:00     PM2.5  UG/M3   27         1   \n",
                            "\n",
                            "                       datetime                    geometry  \n",
                            "0     2024-06-07T13:00:00+00:00  POINT (29.76390 -90.76530)  \n",
                            "1     2024-06-07T13:00:00+00:00  POINT (29.76390 -90.76530)  \n",
                            "2     2024-06-07T13:00:00+00:00  POINT (33.75083 -90.73417)  \n",
                            "3     2024-06-07T13:00:00+00:00  POINT (33.75083 -90.73417)  \n",
                            "4     2024-06-07T13:00:00+00:00  POINT (38.49020 -90.70520)  \n",
                            "...                         ...                         ...  \n",
                            "1136  2024-06-07T13:00:00+00:00  POINT (45.37330 -71.25140)  \n",
                            "1137  2024-06-07T13:00:00+00:00  POINT (45.37330 -71.25140)  \n",
                            "1138  2024-06-07T13:00:00+00:00  POINT (44.30813 -71.21764)  \n",
                            "1139  2024-06-07T13:00:00+00:00  POINT (41.68330 -71.16970)  \n",
                            "1140  2024-06-07T13:00:00+00:00  POINT (41.68330 -71.16970)  \n",
                            "\n",
                            "[1141 rows x 9 columns]"
                        ]
                    },
                    "execution_count" : 21,
                    "metadata" : {},
                    "output_type" : "execute_result"
                }
            ],
            "source" : ["fc.gdf"]
        },
        {
            "cell_type" : "markdown",
            "id" : "84fc8fad-8830-44c0-82b4-f6d2007e90a5",
            "metadata" : {},
            "source" : ["## Part 2: Testing the deployed remote provider as a Boson Dataset"]
        },
        {
            "cell_type" : "code",
            "execution_count" : 6,
            "id" : "da9dc9fe-3942-4da1-a1c4-b7721b0b49c2",
            "metadata" : {},
            "outputs" : [],
            "source" : [
                "import geodesic\n",
                "from geodesic.cql import CQLFilter\n",
                "from datetime import datetime as _datetime\n",
                "from geodesic import mapping"
            ]
        },
        {
            "cell_type" : "code",
            "execution_count" : 179,
            "id" : "76219378-5ee7-4f8b-872e-171e6824854b",
            "metadata" : {},
            "outputs" : [],
            "source" : [
                "proj_name = 'remote-provider-test'\n",
                "proj = geodesic.Project(name=proj_name, alias=\"Testing proj for remote provider\")\n",
                "proj.create()"
            ]
        },
        {
            "cell_type" : "code",
            "execution_count" : 180,
            "id" : "de3ce838-0c1f-4095-b2ef-d3eabeb0a414",
            "metadata" : {},
            "outputs" : [
                {
                    "data" : {
                        "text/plain" : [
                            "{'name': 'air-quality-test',\n",
                            " 'alias': 'Testing proj for air quality datasets',\n",
                            " 'uid': '3391b7537426f6344f75f009878bd264a749c5b1',\n",
                            " 'owner': 'auth0|621d9542ecd81c0069eee8ed'}"
                        ]
                    },
                    "execution_count" : 180,
                    "metadata" : {},
                    "output_type" : "execute_result"
                }
            ],
            "source" : ["geodesic.set_active_project(proj)"]
        },
        {
            "cell_type" : "code",
            "execution_count" : 4,
            "id" : "cc71af9b-c8d6-434f-9475-11e8773c6d87",
            "metadata" : {
                "tags" : []
            },
            "outputs" : [],
            "source" : [
                "url = \"https://air-now-remote-provider-azwzjbkrwq-uc.a.run.app\"\n",
                "ds = geodesic.Dataset.from_remote_provider('airnow', url)"
            ]
        },
        {
            "cell_type" : "code",
            "execution_count" : 5,
            "id" : "0eccccb2-5a7c-401b-b0a7-bdcc40d9c50f",
            "metadata" : {
                "tags" : []
            },
            "outputs" : [
                {
                    "data" : {
                        "application/vnd.jupyter.widget-view+json" : {
                            "model_id" : "589d3c3c22aa48bbb2dac36b085f53fe",
                            "version_major" : 2,
                            "version_minor" : 0
                        },
                        "text/plain" : ["dataset:*:*:*:airnow"]
                    },
                    "execution_count" : 5,
                    "metadata" : {},
                    "output_type" : "execute_result"
                }
            ],
            "source" : ["ds.save()"]
        },
        {
            "cell_type" : "code",
            "execution_count" : 153,
            "id" : "58277fca-86a9-4d81-89f6-21afa572252a",
            "metadata" : {
                "tags" : []
            },
            "outputs" : [],
            "source" : ["dt = [_datetime(2024, 1, 20), _datetime(2024, 1, 20, 5)]"]
        },
        {
            "cell_type" : "code",
            "execution_count" : 154,
            "id" : "adb829cc-e201-4107-941b-ac3071e7d8ae",
            "metadata" : {
                "tags" : []
            },
            "outputs" : [
                {
                    "data" : {
                        "text/plain" : ["[datetime.datetime(2024, 1, 20, 0, 0), datetime.datetime(2024, 1, 20, 5, 0)]"]
                    },
                    "execution_count" : 154,
                    "metadata" : {},
                    "output_type" : "execute_result"
                }
            ],
            "source" : ["dt"]
        },
        {
            "cell_type" : "code",
            "execution_count" : 156,
            "id" : "7d058efa-16c7-4f16-a775-b0d25312eb6f",
            "metadata" : {
                "tags" : []
            },
            "outputs" : [],
            "source" : ["colorado_bbox = [-109.0, 36.9, -102.0, 41.0]"]
        },
        {
            "cell_type" : "code",
            "execution_count" : 287,
            "id" : "673db452-6ee9-4db8-9fdf-d27223e65765",
            "metadata" : {
                "tags" : []
            },
            "outputs" : [],
            "source" : ["test = ds.search(bbox=colorado_bbox) #, datetime=dt)"]
        },
        {
            "cell_type" : "code",
            "execution_count" : 134,
            "id" : "3a5cde72-1629-472b-a666-480e4f2730c5",
            "metadata" : {
                "tags" : []
            },
            "outputs" : [
                {
                    "data" : {
                        "text/plain" : ["15"]
                    },
                    "execution_count" : 134,
                    "metadata" : {},
                    "output_type" : "execute_result"
                }
            ],
            "source" : ["test['features'][0]['properties']['AQI']"]
        },
        {
            "cell_type" : "code",
            "execution_count" : 204,
            "id" : "621d4527-bf6d-43b9-bbf7-299ef10d1883",
            "metadata" : {
                "tags" : []
            },
            "outputs" : [],
            "source" : ["ds_view = ds.view('colorado-aqi', bbox=colorado_bbox)"]
        },
        {
            "cell_type" : "code",
            "execution_count" : 205,
            "id" : "4d8226b4-c2f0-49ff-b840-b8d2e5a46500",
            "metadata" : {
                "tags" : []
            },
            "outputs" : [
                {
                    "data" : {
                        "application/vnd.jupyter.widget-view+json" : {
                            "model_id" : "4c3432952b7e45d1aafd480bc48f6c9b",
                            "version_major" : 2,
                            "version_minor" : 0
                        },
                        "text/plain" : ["ObjectWidget(object_value=[{'alias': 'colorado-aqi', 'name': 'colorado-aqi', 'project': '3391b7537426f6344f75f…"]
                    },
                    "metadata" : {},
                    "output_type" : "display_data"
                }
            ],
            "source" : ["ds_view.save()"]
        },
        {
            "cell_type" : "code",
            "execution_count" : null,
            "id" : "07f6ecc8-3a1c-4d51-8bc6-db247f43fd39",
            "metadata" : {},
            "outputs" : [],
            "source" : ["### Display a FeatureCollection on a map"]
        },
        {
            "cell_type" : "code",
            "execution_count" : 211,
            "id" : "4c9dab13-f6f8-4bf9-94f8-44f5285560e6",
            "metadata" : {
                "tags" : []
            },
            "outputs" : [
                {
                    "data" : {
                        "application/vnd.jupyter.widget-view+json" : {
                            "model_id" : "f0512fe215c8479482b86092a816cb87",
                            "version_major" : 2,
                            "version_minor" : 0
                        },
                        "text/plain" : ["Map(center=[0.0, 0.0], controls=(ZoomControl(options=['position', 'zoom_in_text', 'zoom_in_title', 'zoom_out_t…"]
                    },
                    "metadata" : {},
                    "output_type" : "display_data"
                }
            ],
            "source" : [
                "from ipyleaflet import VectorTileLayer\n",
                "\n",
                "\n",
                "\n",
                "#layer = VectorTileLayer(name=\"pm2.5_vector\", url=share_url)\n",
                "m = mapping.Map()\n",
                "m.add_feature_collection(\"pm2.5\", test, on_click=True)\n",
                "#m.add_layer(layer)\n",
                "\n",
                "m"
            ]
        },
        {
            "cell_type" : "code",
            "execution_count" : null,
            "id" : "a247387a-e682-47a0-b8d6-3d11e98c288f",
            "metadata" : {},
            "outputs" : [],
            "source" : ["### Display a vector tile service on a map"]
        },
        {
            "cell_type" : "code",
            "execution_count" : 206,
            "id" : "eb67aac5-da43-48ee-a1fb-896cb6851468",
            "metadata" : {
                "tags" : []
            },
            "outputs" : [],
            "source" : [
                "token = ds_view.share_as_ogc_tiles_service(600)\n",
                "share_url = token.get_ogc_vector_tile_url()"
            ]
        },
        {
            "cell_type" : "code",
            "execution_count" : 202,
            "id" : "c370b9f2-ac0c-4e51-bdd8-974418e9911c",
            "metadata" : {
                "tags" : []
            },
            "outputs" : [
                {
                    "data" : {
                        "text/plain" : ["'https://api.geodesic.seerai.space/ted/api/v1/share/f4723f7c842084d414a7d8065e179402ed13c84adf1f08d36062b05790bdfe0d/collections/airnow/tiles/WebMercatorQuad/{z}/{y}/{x}.mvt'"]
                    },
                    "execution_count" : 202,
                    "metadata" : {},
                    "output_type" : "execute_result"
                }
            ],
            "source" : ["share_url"]
        },
        {
            "cell_type" : "code",
            "execution_count" : null,
            "id" : "bf3857a8-0213-48b3-96ae-34cab61d316c",
            "metadata" : {},
            "outputs" : [],
            "source" : ["### Share to ESRI geoservices"]
        },
        {
            "cell_type" : "code",
            "execution_count" : 200,
            "id" : "261da243-e2a6-4a92-9975-8adb578a4d5d",
            "metadata" : {
                "tags" : []
            },
            "outputs" : [],
            "source" : [
                "arc_token = ds.share_as_arcgis_service(600)\n",
                "arcgis_url = arc_token.get_vector_tile_service_url()"
            ]
        },
        {
            "cell_type" : "code",
            "execution_count" : 201,
            "id" : "1a334200-8f3f-45b9-a630-14dd39b3e858",
            "metadata" : {
                "tags" : []
            },
            "outputs" : [
                {
                    "data" : {
                        "text/plain" : ["'https://api.geodesic.seerai.space/ted/api/v1/share/315154b4351e30dc0f488d7f5e5c6784f9f3ff6d74af86f843e2c6e935f799e0/rest/services/airnow/VectorTileServer'"]
                    },
                    "execution_count" : 201,
                    "metadata" : {},
                    "output_type" : "execute_result"
                }
            ],
            "source" : ["arcgis_url"]
        },
        {
            "cell_type" : "code",
            "execution_count" : null,
            "id" : "c941a177-ce2d-4eba-9758-6392c7a16016",
            "metadata" : {},
            "outputs" : [],
            "source" : []
        }
    ],
              "metadata" : {
                  "kernelspec" : {
                      "display_name" : "Python 3 (ipykernel)",
                      "language" : "python",
                      "name" : "python3"
                  },
                  "language_info" : {
                      "codemirror_mode" : {
                          "name" : "ipython",
                          "version" : 3
                      },
                      "file_extension" : ".py",
                      "mimetype" : "text/x-python",
                      "name" : "python",
                      "nbconvert_exporter" : "python",
                      "pygments_lexer" : "ipython3",
                      "version" : "3.8.18"
                  }
              },
                           "nbformat" : 4,
                           "nbformat_minor" : 5
}